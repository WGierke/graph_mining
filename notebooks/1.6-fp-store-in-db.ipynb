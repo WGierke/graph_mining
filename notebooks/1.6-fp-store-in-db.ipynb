{
 "cells": [
  {
   "cell_type": "code",
   "execution_count": 1,
   "metadata": {},
   "outputs": [],
   "source": [
    "import sys\n",
    "sys.path.append('..')\n",
    "\n",
    "from tqdm import tqdm\n",
    "\n",
    "from src.data.load_data import get_hackernews_files, load_hackernews_dataframe"
   ]
  },
  {
   "cell_type": "code",
   "execution_count": 9,
   "metadata": {},
   "outputs": [
    {
     "name": "stderr",
     "output_type": "stream",
     "text": [
      "\n",
      "  0%|          | 0/14 [00:00<?, ?it/s]\u001b[A\n",
      "Exception in thread Thread-9:\n",
      "Traceback (most recent call last):\n",
      "  File \"/Users/Fabian/anaconda/envs/graph-mining/lib/python3.6/threading.py\", line 916, in _bootstrap_inner\n",
      "    self.run()\n",
      "  File \"/Users/Fabian/anaconda/envs/graph-mining/lib/python3.6/site-packages/tqdm/_tqdm.py\", line 144, in run\n",
      "    for instance in self.tqdm_cls._instances:\n",
      "  File \"/Users/Fabian/anaconda/envs/graph-mining/lib/python3.6/_weakrefset.py\", line 60, in __iter__\n",
      "    for itemref in self.data:\n",
      "RuntimeError: Set changed size during iteration\n",
      "\n",
      "100%|██████████| 14/14 [08:31<00:00, 36.51s/it]\n"
     ]
    }
   ],
   "source": [
    "files = get_hackernews_files()\n",
    "for file_ in tqdm(files):\n",
    "    df = load_hackernews_dataframe(file_)\n",
    "    file_name = file_.split('/')[-1] + '.csv'\n",
    "    df.to_csv('../data/raw/hackernews/csv/' + file_name, index=False)\n",
    "    del df"
   ]
  },
  {
   "cell_type": "code",
   "execution_count": 12,
   "metadata": {},
   "outputs": [],
   "source": [
    "import sqlite3\n",
    "import pandas as pd"
   ]
  },
  {
   "cell_type": "code",
   "execution_count": 28,
   "metadata": {},
   "outputs": [],
   "source": [
    "conn = sqlite3.connect('../data/raw/hackernews/csv/hackernews.sl3')\n",
    "cursor = conn.cursor()"
   ]
  },
  {
   "cell_type": "code",
   "execution_count": 6,
   "metadata": {},
   "outputs": [
    {
     "name": "stdout",
     "output_type": "stream",
     "text": [
      "(12557524,)\n",
      "CPU times: user 671 ms, sys: 1.71 s, total: 2.38 s\n",
      "Wall time: 2.38 s\n"
     ]
    }
   ],
   "source": [
    "%%time\n",
    "cursor.execute('SELECT COUNT(*) FROM hackernews')\n",
    "print(cursor.fetchone())"
   ]
  },
  {
   "cell_type": "code",
   "execution_count": 11,
   "metadata": {},
   "outputs": [
    {
     "name": "stdout",
     "output_type": "stream",
     "text": [
      "417544\n",
      "CPU times: user 26.3 s, sys: 6.5 s, total: 32.8 s\n",
      "Wall time: 33.2 s\n"
     ]
    }
   ],
   "source": [
    "%%time\n",
    "cursor.execute('SELECT DISTINCT by from hackernews')\n",
    "print(len(cursor.fetchall()))"
   ]
  },
  {
   "cell_type": "code",
   "execution_count": 30,
   "metadata": {},
   "outputs": [
    {
     "name": "stdout",
     "output_type": "stream",
     "text": [
      "           by dead deleted descendants       id                         kids  \\\n",
      "0    angelbob                           2056830                                \n",
      "1      btilly                           2056831                                \n",
      "2    dfischer                           2056832  [2056858, 2057679, 2056836]   \n",
      "3  Calamitous                           2056833                    [2056992]   \n",
      "4   emilsedgh                           2056834                                \n",
      "\n",
      "      parent parts poll retrieved_on score  \\\n",
      "0  2056436.0              1502933012         \n",
      "1  2056673.0              1502933012         \n",
      "2  2056725.0              1502933012         \n",
      "3  2056729.0              1502933012         \n",
      "4  2055652.0              1502933012         \n",
      "\n",
      "                                                text        time title  \\\n",
      "0  That would be \"don't take much money.\"  To avo...  1293840015         \n",
      "1  It depends on the agreement.<p>For instance yo...  1293840140         \n",
      "2                     Woah. How do you do it? Magic?  1293840190         \n",
      "3  Actually, you can get to a terminal without go...  1293840277         \n",
      "4  And you'd be amazed to know that khtml (KDE's ...  1293840312         \n",
      "\n",
      "      type url  \n",
      "0  comment      \n",
      "1  comment      \n",
      "2  comment      \n",
      "3  comment      \n",
      "4  comment      \n",
      "CPU times: user 12.8 ms, sys: 3.67 ms, total: 16.5 ms\n",
      "Wall time: 16.2 ms\n"
     ]
    }
   ],
   "source": [
    "%%time\n",
    "df = pd.read_sql_query('SELECT * FROM hackernews LIMIT 5', conn)\n",
    "print(df.head())"
   ]
  },
  {
   "cell_type": "code",
   "execution_count": 34,
   "metadata": {},
   "outputs": [
    {
     "name": "stdout",
     "output_type": "stream",
     "text": [
      "                by  COUNT(*)\n",
      "0                     387640\n",
      "1               0-         1\n",
      "2              0-4        12\n",
      "3              0-9         1\n",
      "4  0-_-_-_-_-_-_-0         5\n",
      "CPU times: user 11.5 s, sys: 3.01 s, total: 14.5 s\n",
      "Wall time: 16.1 s\n"
     ]
    }
   ],
   "source": [
    "%%time\n",
    "# Somehow the 'by' column seems to be not groupable\n",
    "df = pd.read_sql_query('SELECT by, COUNT(*) FROM hackernews GROUP BY by LIMIT 5;', conn)\n",
    "print(df.head())"
   ]
  },
  {
   "cell_type": "code",
   "execution_count": null,
   "metadata": {},
   "outputs": [],
   "source": []
  }
 ],
 "metadata": {
  "kernelspec": {
   "display_name": "Python 3",
   "language": "python",
   "name": "python3"
  },
  "language_info": {
   "codemirror_mode": {
    "name": "ipython",
    "version": 3
   },
   "file_extension": ".py",
   "mimetype": "text/x-python",
   "name": "python",
   "nbconvert_exporter": "python",
   "pygments_lexer": "ipython3",
   "version": "3.6.2"
  }
 },
 "nbformat": 4,
 "nbformat_minor": 2
}

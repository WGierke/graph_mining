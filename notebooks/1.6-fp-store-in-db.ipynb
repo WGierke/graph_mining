{
 "cells": [
  {
   "cell_type": "code",
   "execution_count": 1,
   "metadata": {},
   "outputs": [],
   "source": [
    "import sys\n",
    "sys.path.append('..')\n",
    "\n",
    "from tqdm import tqdm\n",
    "\n",
    "from src.data.load_data import get_hackernews_files, load_hackernews_dataframe"
   ]
  },
  {
   "cell_type": "code",
   "execution_count": 9,
   "metadata": {},
   "outputs": [
    {
     "name": "stderr",
     "output_type": "stream",
     "text": [
      "\n",
      "  0%|          | 0/14 [00:00<?, ?it/s]\u001b[A\n",
      "Exception in thread Thread-9:\n",
      "Traceback (most recent call last):\n",
      "  File \"/Users/Fabian/anaconda/envs/graph-mining/lib/python3.6/threading.py\", line 916, in _bootstrap_inner\n",
      "    self.run()\n",
      "  File \"/Users/Fabian/anaconda/envs/graph-mining/lib/python3.6/site-packages/tqdm/_tqdm.py\", line 144, in run\n",
      "    for instance in self.tqdm_cls._instances:\n",
      "  File \"/Users/Fabian/anaconda/envs/graph-mining/lib/python3.6/_weakrefset.py\", line 60, in __iter__\n",
      "    for itemref in self.data:\n",
      "RuntimeError: Set changed size during iteration\n",
      "\n",
      "100%|██████████| 14/14 [08:31<00:00, 36.51s/it]\n"
     ]
    }
   ],
   "source": [
    "files = get_hackernews_files()\n",
    "for file_ in tqdm(files):\n",
    "    df = load_hackernews_dataframe(file_)\n",
    "    file_name = file_.split('/')[-1] + '.csv'\n",
    "    df.to_csv('../data/raw/hackernews/csv/' + file_name, index=False)\n",
    "    del df"
   ]
  },
  {
   "cell_type": "code",
   "execution_count": 1,
   "metadata": {},
   "outputs": [],
   "source": [
    "import sqlite3\n",
    "import pandas as pd"
   ]
  },
  {
   "cell_type": "code",
   "execution_count": 4,
   "metadata": {},
   "outputs": [],
   "source": [
    "conn = sqlite3.connect('../data/raw/hackernews/csv/hackernews.sl3')\n",
    "cursor = conn.cursor()"
   ]
  },
  {
   "cell_type": "code",
   "execution_count": 6,
   "metadata": {},
   "outputs": [
    {
     "name": "stdout",
     "output_type": "stream",
     "text": [
      "(12557524,)\n",
      "CPU times: user 671 ms, sys: 1.71 s, total: 2.38 s\n",
      "Wall time: 2.38 s\n"
     ]
    }
   ],
   "source": [
    "%%time\n",
    "cursor.execute('SELECT COUNT(*) FROM hackernews')\n",
    "print(cursor.fetchone())"
   ]
  },
  {
   "cell_type": "code",
   "execution_count": 11,
   "metadata": {},
   "outputs": [
    {
     "name": "stdout",
     "output_type": "stream",
     "text": [
      "417544\n",
      "CPU times: user 26.3 s, sys: 6.5 s, total: 32.8 s\n",
      "Wall time: 33.2 s\n"
     ]
    }
   ],
   "source": [
    "%%time\n",
    "cursor.execute('SELECT DISTINCT by from hackernews')\n",
    "print(len(cursor.fetchall()))"
   ]
  },
  {
   "cell_type": "code",
   "execution_count": 30,
   "metadata": {},
   "outputs": [
    {
     "name": "stdout",
     "output_type": "stream",
     "text": [
      "           by dead deleted descendants       id                         kids  \\\n",
      "0    angelbob                           2056830                                \n",
      "1      btilly                           2056831                                \n",
      "2    dfischer                           2056832  [2056858, 2057679, 2056836]   \n",
      "3  Calamitous                           2056833                    [2056992]   \n",
      "4   emilsedgh                           2056834                                \n",
      "\n",
      "      parent parts poll retrieved_on score  \\\n",
      "0  2056436.0              1502933012         \n",
      "1  2056673.0              1502933012         \n",
      "2  2056725.0              1502933012         \n",
      "3  2056729.0              1502933012         \n",
      "4  2055652.0              1502933012         \n",
      "\n",
      "                                                text        time title  \\\n",
      "0  That would be \"don't take much money.\"  To avo...  1293840015         \n",
      "1  It depends on the agreement.<p>For instance yo...  1293840140         \n",
      "2                     Woah. How do you do it? Magic?  1293840190         \n",
      "3  Actually, you can get to a terminal without go...  1293840277         \n",
      "4  And you'd be amazed to know that khtml (KDE's ...  1293840312         \n",
      "\n",
      "      type url  \n",
      "0  comment      \n",
      "1  comment      \n",
      "2  comment      \n",
      "3  comment      \n",
      "4  comment      \n",
      "CPU times: user 12.8 ms, sys: 3.67 ms, total: 16.5 ms\n",
      "Wall time: 16.2 ms\n"
     ]
    }
   ],
   "source": [
    "%%time\n",
    "df = pd.read_sql_query('SELECT * FROM hackernews LIMIT 5', conn)\n",
    "print(df.head())"
   ]
  },
  {
   "cell_type": "code",
   "execution_count": 5,
   "metadata": {},
   "outputs": [
    {
     "name": "stdout",
     "output_type": "stream",
     "text": [
      "CPU times: user 19.9 s, sys: 4.01 s, total: 23.9 s\n",
      "Wall time: 28.3 s\n"
     ]
    }
   ],
   "source": [
    "%%time\n",
    "df = pd.read_sql_query('SELECT by, COUNT(*) FROM hackernews GROUP BY by', conn)"
   ]
  },
  {
   "cell_type": "code",
   "execution_count": 20,
   "metadata": {},
   "outputs": [],
   "source": [
    "df = df[df['by'] != '']"
   ]
  },
  {
   "cell_type": "code",
   "execution_count": 21,
   "metadata": {},
   "outputs": [
    {
     "data": {
      "text/plain": [
       "Text(0,0.5,'Count')"
      ]
     },
     "execution_count": 21,
     "metadata": {},
     "output_type": "execute_result"
    },
    {
     "data": {
      "image/png": "[encoded data removed]",
      "text/plain": [
       "<matplotlib.figure.Figure at 0x10e597fd0>"
      ]
     },
     "metadata": {},
     "output_type": "display_data"
    }
   ],
   "source": [
    "import matplotlib.pyplot as plt\n",
    "df['COUNT(*)'].hist(bins=1000, grid=False)\n",
    "plt.yscale('log', nonposy='clip')\n",
    "plt.xlabel('Number of comments of a user')\n",
    "plt.ylabel('Count')"
   ]
  },
  {
   "cell_type": "code",
   "execution_count": 22,
   "metadata": {},
   "outputs": [
    {
     "data": {
      "text/html": [
       "<div>\n",
       "<style scoped>\n",
       "    .dataframe tbody tr th:only-of-type {\n",
       "        vertical-align: middle;\n",
       "    }\n",
       "\n",
       "    .dataframe tbody tr th {\n",
       "        vertical-align: top;\n",
       "    }\n",
       "\n",
       "    .dataframe thead th {\n",
       "        text-align: right;\n",
       "    }\n",
       "</style>\n",
       "<table border=\"1\" class=\"dataframe\">\n",
       "  <thead>\n",
       "    <tr style=\"text-align: right;\">\n",
       "      <th></th>\n",
       "      <th>by</th>\n",
       "      <th>COUNT(*)</th>\n",
       "    </tr>\n",
       "  </thead>\n",
       "  <tbody>\n",
       "    <tr>\n",
       "      <th>384453</th>\n",
       "      <td>tptacek</td>\n",
       "      <td>34556</td>\n",
       "    </tr>\n",
       "    <tr>\n",
       "      <th>202407</th>\n",
       "      <td>jacquesm</td>\n",
       "      <td>22049</td>\n",
       "    </tr>\n",
       "    <tr>\n",
       "      <th>14656</th>\n",
       "      <td>DanBC</td>\n",
       "      <td>17548</td>\n",
       "    </tr>\n",
       "    <tr>\n",
       "      <th>143108</th>\n",
       "      <td>dragonwriter</td>\n",
       "      <td>16650</td>\n",
       "    </tr>\n",
       "    <tr>\n",
       "      <th>127332</th>\n",
       "      <td>dang</td>\n",
       "      <td>14835</td>\n",
       "    </tr>\n",
       "  </tbody>\n",
       "</table>\n",
       "</div>"
      ],
      "text/plain": [
       "                  by  COUNT(*)\n",
       "384453       tptacek     34556\n",
       "202407      jacquesm     22049\n",
       "14656          DanBC     17548\n",
       "143108  dragonwriter     16650\n",
       "127332          dang     14835"
      ]
     },
     "execution_count": 22,
     "metadata": {},
     "output_type": "execute_result"
    }
   ],
   "source": [
    "df.sort_values('COUNT(*)', ascending=False).head()"
   ]
  },
  {
   "cell_type": "code",
   "execution_count": null,
   "metadata": {},
   "outputs": [],
   "source": []
  }
 ],
 "metadata": {
  "kernelspec": {
   "display_name": "Python 3",
   "language": "python",
   "name": "python3"
  },
  "language_info": {
   "codemirror_mode": {
    "name": "ipython",
    "version": 3
   },
   "file_extension": ".py",
   "mimetype": "text/x-python",
   "name": "python",
   "nbconvert_exporter": "python",
   "pygments_lexer": "ipython3",
   "version": "3.6.2"
  }
 },
 "nbformat": 4,
 "nbformat_minor": 2
}

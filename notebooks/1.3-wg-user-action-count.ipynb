{
 "cells": [
  {
   "cell_type": "code",
   "execution_count": 1,
   "metadata": {},
   "outputs": [
    {
     "name": "stderr",
     "output_type": "stream",
     "text": [
      "100%|██████████| 18/18 [12:09<00:00, 40.52s/it]\n"
     ]
    }
   ],
   "source": [
    "\"\"\"Export the top TOP_USERS users by made comments\"\"\"\n",
    "\n",
    "import sys\n",
    "sys.path.append('..')\n",
    "\n",
    "import matplotlib.pyplot as plt\n",
    "from tqdm import tqdm\n",
    "from src.data.load_data import get_hackernews_files, load_hackernews_dataframe\n",
    "\n",
    "files = get_hackernews_files()\n",
    "global_user_action_count = None\n",
    "TOP_USERS = 15000\n",
    "\n",
    "for file_ in tqdm(files):\n",
    "    try:\n",
    "        df = load_hackernews_dataframe(file_)\n",
    "    except MemoryError as _:\n",
    "        continue\n",
    "    df = df[df.type == 'comment']\n",
    "    df = df.dropna(subset = ['text'])\n",
    "    user_action_count = df.groupby('by').count()['id']\n",
    "    if global_user_action_count is None:\n",
    "        global_user_action_count = user_action_count\n",
    "    else:\n",
    "        global_user_action_count = global_user_action_count.add(user_action_count, fill_value=0)\n",
    "    \n",
    "    global_user_action_count = global_user_action_count.sort_values(ascending=False)[:TOP_USERS]"
   ]
  },
  {
   "cell_type": "code",
   "execution_count": 10,
   "metadata": {},
   "outputs": [
    {
     "data": {
      "image/png": "[encoded data removed]",
      "text/plain": [
       "<matplotlib.figure.Figure at 0x7fd8dc607e80>"
      ]
     },
     "metadata": {},
     "output_type": "display_data"
    }
   ],
   "source": [
    "# Plot user comment distribution\n",
    "global_user_action_count.hist(grid=False, bins=1000)\n",
    "plt.yscale('log', nonposy='clip')\n",
    "plt.xlabel('Number of comments of a user')\n",
    "plt.ylabel('Count')\n",
    "plt.show()"
   ]
  },
  {
   "cell_type": "code",
   "execution_count": 3,
   "metadata": {},
   "outputs": [],
   "source": [
    "global_user_action_count.sort_values(ascending=False).to_csv(\"../data/processed/top_{}_users_comments.csv\".format(TOP_USERS))"
   ]
  }
 ],
 "metadata": {
  "kernelspec": {
   "display_name": "venv3_graphs",
   "language": "python",
   "name": "venv3_graphs"
  },
  "language_info": {
   "codemirror_mode": {
    "name": "ipython",
    "version": 3
   },
   "file_extension": ".py",
   "mimetype": "text/x-python",
   "name": "python",
   "nbconvert_exporter": "python",
   "pygments_lexer": "ipython3",
   "version": "3.5.2"
  }
 },
 "nbformat": 4,
 "nbformat_minor": 2
}

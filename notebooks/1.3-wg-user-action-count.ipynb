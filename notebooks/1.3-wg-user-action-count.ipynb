{
 "cells": [
  {
   "cell_type": "code",
   "execution_count": 1,
   "metadata": {},
   "outputs": [
    {
     "name": "stderr",
     "output_type": "stream",
     "text": [
      " 86%|████████▌ | 6/7 [01:25<00:14, 14.19s/it]"
     ]
    },
    {
     "name": "stdout",
     "output_type": "stream",
     "text": [
      "../data/raw/HN_2012 is too large for my memory :-(\n"
     ]
    },
    {
     "name": "stderr",
     "output_type": "stream",
     "text": [
      "100%|██████████| 7/7 [02:03<00:00, 17.71s/it]\n"
     ]
    }
   ],
   "source": [
    "import matplotlib.pyplot as plt\n",
    "import pandas as pd\n",
    "import json\n",
    "import glob\n",
    "from tqdm import tqdm\n",
    "\n",
    "path = '../data/raw/'\n",
    "files = glob.glob(path + '*')\n",
    "users = set()\n",
    "global_user_action_count = None\n",
    "\n",
    "for file_ in tqdm(files[:7]):  \n",
    "    with open(file_) as f:\n",
    "        file_content = f.read()\n",
    "    file_content = file_content.rstrip()\n",
    "    file_content = file_content.replace('}\\n{', '},{')\n",
    "    file_content = \"[{}]\".format(file_content)\n",
    "\n",
    "    try:\n",
    "        df = pd.read_json(file_content)\n",
    "    except ValueError as e:\n",
    "        print(\"{} is too large for my memory :-(\".format(file_))\n",
    "        pass\n",
    "    user_action_count = df.groupby('by').count()['id']\n",
    "    if global_user_action_count is None:\n",
    "        global_user_action_count = user_action_count\n",
    "    else:\n",
    "        global_user_action_count = global_user_action_count.add(user_action_count, fill_value=0)\n",
    "    \n",
    "    # Throw away users with fewer than 3 actions\n",
    "    global_user_action_count = global_user_action_count[global_user_action_count > 2]"
   ]
  },
  {
   "cell_type": "code",
   "execution_count": 2,
   "metadata": {},
   "outputs": [
    {
     "data": {
      "image/png": "[encoded data removed]",
      "text/plain": [
       "<matplotlib.figure.Figure at 0x7fddf82059e8>"
      ]
     },
     "metadata": {},
     "output_type": "display_data"
    }
   ],
   "source": [
    "# Plot user action distribution\n",
    "global_user_action_count.hist(grid=False, bins=1000)\n",
    "plt.yscale('log', nonposy='clip')\n",
    "plt.xlabel('Number of actions of a user')\n",
    "plt.ylabel('Count')\n",
    "plt.show()"
   ]
  },
  {
   "cell_type": "code",
   "execution_count": null,
   "metadata": {},
   "outputs": [],
   "source": []
  }
 ],
 "metadata": {
  "kernelspec": {
   "display_name": "venv3_graph",
   "language": "python",
   "name": "venv3_graph"
  },
  "language_info": {
   "codemirror_mode": {
    "name": "ipython",
    "version": 3
   },
   "file_extension": ".py",
   "mimetype": "text/x-python",
   "name": "python",
   "nbconvert_exporter": "python",
   "pygments_lexer": "ipython3",
   "version": "3.5.2"
  }
 },
 "nbformat": 4,
 "nbformat_minor": 2
}

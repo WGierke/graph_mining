{
 "cells": [
  {
   "cell_type": "code",
   "execution_count": 1,
   "metadata": {},
   "outputs": [
    {
     "name": "stderr",
     "output_type": "stream",
     "text": [
      "100%|██████████| 18/18 [00:38<00:00,  2.12s/it]\n"
     ]
    }
   ],
   "source": [
    "import sys\n",
    "sys.path.append('..')\n",
    "\n",
    "import matplotlib.pyplot as plt\n",
    "from tqdm import tqdm\n",
    "from src.data.load_data import get_hackernews_files, load_hackernews_dataframe\n",
    "\n",
    "files = get_hackernews_files()\n",
    "global_user_action_count = None\n",
    "MIN_USER_ACTIONS = 2\n",
    "\n",
    "for file_ in tqdm(files):\n",
    "    try:\n",
    "        df = load_hackernews_dataframe(file_)\n",
    "    except MemoryError as _:\n",
    "        continue\n",
    "    user_action_count = df.groupby('by').count()['id']\n",
    "    if global_user_action_count is None:\n",
    "        global_user_action_count = user_action_count\n",
    "    else:\n",
    "        global_user_action_count = global_user_action_count.add(user_action_count, fill_value=0)\n",
    "    \n",
    "    # Throw away users with fewer than 3 actions\n",
    "    global_user_action_count = global_user_action_count[global_user_action_count > MIN_USER_ACTIONS]"
   ]
  },
  {
   "cell_type": "code",
   "execution_count": 2,
   "metadata": {},
   "outputs": [
    {
     "data": {
      "image/png": "[encoded data removed]",
      "text/plain": [
       "<matplotlib.figure.Figure at 0x7fb8c93ed7f0>"
      ]
     },
     "metadata": {},
     "output_type": "display_data"
    }
   ],
   "source": [
    "# Plot user action distribution\n",
    "global_user_action_count.hist(grid=False, bins=1000)\n",
    "plt.yscale('log', nonposy='clip')\n",
    "plt.xlabel('Number of actions of a user')\n",
    "plt.ylabel('Count')\n",
    "plt.show()"
   ]
  },
  {
   "cell_type": "code",
   "execution_count": null,
   "metadata": {},
   "outputs": [],
   "source": []
  }
 ],
 "metadata": {
  "kernelspec": {
   "display_name": "venv3_graph",
   "language": "python",
   "name": "venv3_graph"
  },
  "language_info": {
   "codemirror_mode": {
    "name": "ipython",
    "version": 3
   },
   "file_extension": ".py",
   "mimetype": "text/x-python",
   "name": "python",
   "nbconvert_exporter": "python",
   "pygments_lexer": "ipython3",
   "version": "3.5.2"
  }
 },
 "nbformat": 4,
 "nbformat_minor": 2
}

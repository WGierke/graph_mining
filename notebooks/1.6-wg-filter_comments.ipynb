{
 "cells": [
  {
   "cell_type": "code",
   "execution_count": 1,
   "metadata": {},
   "outputs": [
    {
     "name": "stderr",
     "output_type": "stream",
     "text": [
      "\r",
      "  0%|          | 0/10 [00:00<?, ?it/s]"
     ]
    },
    {
     "name": "stdout",
     "output_type": "stream",
     "text": [
      "/home/madness/Documents/Projects/graph_mining/data/raw/hackernews/HN_2010 /home/madness/Documents/Projects/graph_mining/data/raw/hackernews/HN_2010 is too large for my memory :-(\n",
      "/home/madness/Documents/Projects/graph_mining/data/raw/hackernews/HN_2016 /home/madness/Documents/Projects/graph_mining/data/raw/hackernews/HN_2016 is too large for my memory :-(\n"
     ]
    },
    {
     "name": "stderr",
     "output_type": "stream",
     "text": [
      " 90%|█████████ | 9/10 [01:07<00:07,  7.51s/it]"
     ]
    },
    {
     "name": "stdout",
     "output_type": "stream",
     "text": [
      "/home/madness/Documents/Projects/graph_mining/data/raw/hackernews/HN_2014 /home/madness/Documents/Projects/graph_mining/data/raw/hackernews/HN_2014 is too large for my memory :-(\n"
     ]
    },
    {
     "name": "stderr",
     "output_type": "stream",
     "text": [
      "100%|██████████| 10/10 [01:11<00:00,  7.16s/it]\n"
     ]
    }
   ],
   "source": [
    "\"\"\"Filter the comments by keywords and build a graph to test the community detection algorithm\"\"\"\n",
    "\n",
    "import sys\n",
    "sys.path.append('..')\n",
    "import pandas as pd\n",
    "import matplotlib.pyplot as plt\n",
    "from tqdm import tqdm\n",
    "from src.data.load_data import get_hackernews_files, load_hackernews_dataframe\n",
    "\n",
    "trump_df = None\n",
    "dl_df = None\n",
    "files = get_hackernews_files()\n",
    "\n",
    "for file_ in tqdm(files[:10]):\n",
    "    try:\n",
    "        df = load_hackernews_dataframe(file_)\n",
    "    except Exception as e:\n",
    "        print(file_, e)\n",
    "        continue\n",
    "    df = df[df.type == 'comment']\n",
    "    df = df.dropna(subset = ['text'])\n",
    "    if trump_df is None or dl_df is None:\n",
    "        trump_df = pd.DataFrame(columns=df.columns)\n",
    "        dl_df = pd.DataFrame(columns=df.columns)\n",
    "    trump_df = trump_df.append(df[df['text'].str.contains(\"trump\")])\n",
    "    dl_df = dl_df.append(df[df['text'].str.contains(\"deep learning\")])\n",
    "trump_df['topic'] = 'trump'\n",
    "dl_df['topic'] = 'deep learning'\n",
    "del df"
   ]
  },
  {
   "cell_type": "code",
   "execution_count": 2,
   "metadata": {},
   "outputs": [],
   "source": [
    "from src.graphbuilder import GraphBuilder"
   ]
  },
  {
   "cell_type": "code",
   "execution_count": 3,
   "metadata": {},
   "outputs": [
    {
     "name": "stderr",
     "output_type": "stream",
     "text": [
      "5153it [00:03, 1389.51it/s]\n"
     ]
    }
   ],
   "source": [
    "concatenated_df = trump_df.copy()\n",
    "concatenated_df = concatenated_df.append(dl_df)\n",
    "gb = GraphBuilder()\n",
    "gb.extend_graph(concatenated_df)\n",
    "story_graph = gb.graph"
   ]
  },
  {
   "cell_type": "code",
   "execution_count": 4,
   "metadata": {},
   "outputs": [],
   "source": [
    "story_graph.save(\"graph_trump_dl_all.gml\", format(\"gml\"))"
   ]
  }
 ],
 "metadata": {
  "kernelspec": {
   "display_name": "venv3_graphs",
   "language": "python",
   "name": "venv3_graphs"
  },
  "language_info": {
   "codemirror_mode": {
    "name": "ipython",
    "version": 3
   },
   "file_extension": ".py",
   "mimetype": "text/x-python",
   "name": "python",
   "nbconvert_exporter": "python",
   "pygments_lexer": "ipython3",
   "version": "3.5.2"
  }
 },
 "nbformat": 4,
 "nbformat_minor": 2
}

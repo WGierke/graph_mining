{
 "cells": [
  {
   "cell_type": "code",
   "execution_count": 2,
   "metadata": {},
   "outputs": [],
   "source": [
    "import sys\n",
    "sys.path.append('..')"
   ]
  },
  {
   "cell_type": "code",
   "execution_count": 3,
   "metadata": {},
   "outputs": [],
   "source": [
    "from src.data.load_data import get_hackernews_files, load_hackernews_dataframe"
   ]
  },
  {
   "cell_type": "code",
   "execution_count": 4,
   "metadata": {},
   "outputs": [],
   "source": [
    "files = get_hackernews_files()"
   ]
  },
  {
   "cell_type": "code",
   "execution_count": 5,
   "metadata": {},
   "outputs": [],
   "source": [
    "path = [x for x in files if x.endswith('HN_2017-01')][0]"
   ]
  },
  {
   "cell_type": "code",
   "execution_count": 6,
   "metadata": {},
   "outputs": [
    {
     "data": {
      "text/html": [
       "<div>\n",
       "<style scoped>\n",
       "    .dataframe tbody tr th:only-of-type {\n",
       "        vertical-align: middle;\n",
       "    }\n",
       "\n",
       "    .dataframe tbody tr th {\n",
       "        vertical-align: top;\n",
       "    }\n",
       "\n",
       "    .dataframe thead th {\n",
       "        text-align: right;\n",
       "    }\n",
       "</style>\n",
       "<table border=\"1\" class=\"dataframe\">\n",
       "  <thead>\n",
       "    <tr style=\"text-align: right;\">\n",
       "      <th></th>\n",
       "      <th>by</th>\n",
       "      <th>dead</th>\n",
       "      <th>deleted</th>\n",
       "      <th>descendants</th>\n",
       "      <th>id</th>\n",
       "      <th>kids</th>\n",
       "      <th>parent</th>\n",
       "      <th>parts</th>\n",
       "      <th>poll</th>\n",
       "      <th>retrieved_on</th>\n",
       "      <th>score</th>\n",
       "      <th>text</th>\n",
       "      <th>time</th>\n",
       "      <th>title</th>\n",
       "      <th>type</th>\n",
       "      <th>url</th>\n",
       "    </tr>\n",
       "  </thead>\n",
       "  <tbody>\n",
       "    <tr>\n",
       "      <th>0</th>\n",
       "      <td>jfc</td>\n",
       "      <td>NaN</td>\n",
       "      <td>NaN</td>\n",
       "      <td>NaN</td>\n",
       "      <td>13293889</td>\n",
       "      <td>NaN</td>\n",
       "      <td>13291930.0</td>\n",
       "      <td>NaN</td>\n",
       "      <td>NaN</td>\n",
       "      <td>1500612003</td>\n",
       "      <td>NaN</td>\n",
       "      <td>An extraordinary artist. I&amp;#x27;m glad he was ...</td>\n",
       "      <td>1483228806</td>\n",
       "      <td>NaN</td>\n",
       "      <td>comment</td>\n",
       "      <td>NaN</td>\n",
       "    </tr>\n",
       "    <tr>\n",
       "      <th>1</th>\n",
       "      <td>greglindahl</td>\n",
       "      <td>NaN</td>\n",
       "      <td>NaN</td>\n",
       "      <td>NaN</td>\n",
       "      <td>13293890</td>\n",
       "      <td>NaN</td>\n",
       "      <td>13292161.0</td>\n",
       "      <td>NaN</td>\n",
       "      <td>NaN</td>\n",
       "      <td>1500612003</td>\n",
       "      <td>NaN</td>\n",
       "      <td>And for those who are wondering what I meant, ...</td>\n",
       "      <td>1483228834</td>\n",
       "      <td>NaN</td>\n",
       "      <td>comment</td>\n",
       "      <td>NaN</td>\n",
       "    </tr>\n",
       "    <tr>\n",
       "      <th>2</th>\n",
       "      <td>imron</td>\n",
       "      <td>NaN</td>\n",
       "      <td>NaN</td>\n",
       "      <td>NaN</td>\n",
       "      <td>13293891</td>\n",
       "      <td>NaN</td>\n",
       "      <td>13293408.0</td>\n",
       "      <td>NaN</td>\n",
       "      <td>NaN</td>\n",
       "      <td>1500612003</td>\n",
       "      <td>NaN</td>\n",
       "      <td>Perhaps they&amp;#x27;re trying to learn from the ...</td>\n",
       "      <td>1483228850</td>\n",
       "      <td>NaN</td>\n",
       "      <td>comment</td>\n",
       "      <td>NaN</td>\n",
       "    </tr>\n",
       "    <tr>\n",
       "      <th>3</th>\n",
       "      <td>zzzcpan</td>\n",
       "      <td>NaN</td>\n",
       "      <td>NaN</td>\n",
       "      <td>NaN</td>\n",
       "      <td>13293892</td>\n",
       "      <td>[13293927]</td>\n",
       "      <td>13293875.0</td>\n",
       "      <td>NaN</td>\n",
       "      <td>NaN</td>\n",
       "      <td>1500612002</td>\n",
       "      <td>NaN</td>\n",
       "      <td>Russians are the most likely users of the Ukra...</td>\n",
       "      <td>1483228857</td>\n",
       "      <td>NaN</td>\n",
       "      <td>comment</td>\n",
       "      <td>NaN</td>\n",
       "    </tr>\n",
       "    <tr>\n",
       "      <th>4</th>\n",
       "      <td>theWatcher37</td>\n",
       "      <td>NaN</td>\n",
       "      <td>NaN</td>\n",
       "      <td>NaN</td>\n",
       "      <td>13293893</td>\n",
       "      <td>[13293974, 13295659]</td>\n",
       "      <td>13293826.0</td>\n",
       "      <td>NaN</td>\n",
       "      <td>NaN</td>\n",
       "      <td>1500612002</td>\n",
       "      <td>NaN</td>\n",
       "      <td>Crowd funding makes sense however when there i...</td>\n",
       "      <td>1483228879</td>\n",
       "      <td>NaN</td>\n",
       "      <td>comment</td>\n",
       "      <td>NaN</td>\n",
       "    </tr>\n",
       "  </tbody>\n",
       "</table>\n",
       "</div>"
      ],
      "text/plain": [
       "             by  dead  deleted  descendants        id                  kids  \\\n",
       "0           jfc   NaN      NaN          NaN  13293889                   NaN   \n",
       "1   greglindahl   NaN      NaN          NaN  13293890                   NaN   \n",
       "2         imron   NaN      NaN          NaN  13293891                   NaN   \n",
       "3       zzzcpan   NaN      NaN          NaN  13293892            [13293927]   \n",
       "4  theWatcher37   NaN      NaN          NaN  13293893  [13293974, 13295659]   \n",
       "\n",
       "       parent parts  poll  retrieved_on  score  \\\n",
       "0  13291930.0   NaN   NaN    1500612003    NaN   \n",
       "1  13292161.0   NaN   NaN    1500612003    NaN   \n",
       "2  13293408.0   NaN   NaN    1500612003    NaN   \n",
       "3  13293875.0   NaN   NaN    1500612002    NaN   \n",
       "4  13293826.0   NaN   NaN    1500612002    NaN   \n",
       "\n",
       "                                                text        time title  \\\n",
       "0  An extraordinary artist. I&#x27;m glad he was ...  1483228806   NaN   \n",
       "1  And for those who are wondering what I meant, ...  1483228834   NaN   \n",
       "2  Perhaps they&#x27;re trying to learn from the ...  1483228850   NaN   \n",
       "3  Russians are the most likely users of the Ukra...  1483228857   NaN   \n",
       "4  Crowd funding makes sense however when there i...  1483228879   NaN   \n",
       "\n",
       "      type  url  \n",
       "0  comment  NaN  \n",
       "1  comment  NaN  \n",
       "2  comment  NaN  \n",
       "3  comment  NaN  \n",
       "4  comment  NaN  "
      ]
     },
     "execution_count": 6,
     "metadata": {},
     "output_type": "execute_result"
    }
   ],
   "source": [
    "df = load_hackernews_dataframe(path)\n",
    "df.head()"
   ]
  },
  {
   "cell_type": "code",
   "execution_count": 7,
   "metadata": {},
   "outputs": [
    {
     "data": {
      "text/plain": [
       "by              235752\n",
       "dead             11727\n",
       "deleted           7055\n",
       "descendants      25513\n",
       "id              242807\n",
       "kids            103821\n",
       "parent          208530\n",
       "parts                5\n",
       "poll                53\n",
       "retrieved_on    242807\n",
       "score            33023\n",
       "text            204548\n",
       "time            242807\n",
       "title            32970\n",
       "type            242807\n",
       "url              30994\n",
       "dtype: int64"
      ]
     },
     "execution_count": 7,
     "metadata": {},
     "output_type": "execute_result"
    }
   ],
   "source": [
    "df.count()"
   ]
  },
  {
   "cell_type": "code",
   "execution_count": 20,
   "metadata": {},
   "outputs": [],
   "source": [
    "comments = df[df['type'] == 'comment']\n",
    "users = comments.groupby(comments['by']).size()"
   ]
  },
  {
   "cell_type": "code",
   "execution_count": 82,
   "metadata": {},
   "outputs": [],
   "source": [
    "filtered_users, _ = zip(*users.sort_values(ascending=False).head(100).items())\n",
    "unique_users = set(filtered_users)"
   ]
  },
  {
   "cell_type": "code",
   "execution_count": 83,
   "metadata": {},
   "outputs": [],
   "source": [
    "user_df = df[df['by'].map(lambda x: x in unique_users) == True]"
   ]
  },
  {
   "cell_type": "code",
   "execution_count": 84,
   "metadata": {},
   "outputs": [],
   "source": [
    "from igraph import Graph\n",
    "graph = Graph()\n",
    "author_index = set()"
   ]
  },
  {
   "cell_type": "code",
   "execution_count": 85,
   "metadata": {},
   "outputs": [],
   "source": [
    "import math\n",
    "from tqdm import tqdm\n",
    "\n",
    "\n",
    "def add_non_existent_node(author, graph):\n",
    "    if author not in author_index:\n",
    "        author_index.add(author)\n",
    "        graph.add_vertices(author)\n",
    "    return graph\n",
    "\n",
    "\n",
    "def extend_graph(df, graph):\n",
    "    for _, row in tqdm(df.iterrows()):\n",
    "        author = row['by']\n",
    "        graph = add_non_existent_node(author, graph)\n",
    "        parent = row['parent']\n",
    "        if math.isnan(parent):\n",
    "            continue\n",
    "        parent_df = df[df['id'] == int(parent)]\n",
    "        if len(parent_df) == 0:\n",
    "            continue\n",
    "        parent_author = parent_df.iloc[0]['by']\n",
    "        graph = add_non_existent_node(parent_author, graph)\n",
    "        graph.add_edges([(author, parent_author)])\n",
    "    return graph"
   ]
  },
  {
   "cell_type": "code",
   "execution_count": 86,
   "metadata": {},
   "outputs": [
    {
     "name": "stderr",
     "output_type": "stream",
     "text": [
      "19958it [00:12, 1563.14it/s]\n"
     ]
    }
   ],
   "source": [
    "story_graph = extend_graph(user_df, graph)"
   ]
  },
  {
   "cell_type": "code",
   "execution_count": 87,
   "metadata": {},
   "outputs": [
    {
     "data": {
      "text/plain": [
       "1884"
      ]
     },
     "execution_count": 87,
     "metadata": {},
     "output_type": "execute_result"
    }
   ],
   "source": [
    "story_graph.ecount()\n",
    "\n"
   ]
  },
  {
   "cell_type": "code",
   "execution_count": 89,
   "metadata": {},
   "outputs": [],
   "source": [
    "# https://stackoverflow.com/questions/25254151/using-igraph-in-python-for-community-detection-and-writing-community-number-for\n",
    "dendogram = story_graph.community_edge_betweenness()\n"
   ]
  },
  {
   "cell_type": "code",
   "execution_count": 94,
   "metadata": {},
   "outputs": [
    {
     "name": "stdout",
     "output_type": "stream",
     "text": [
      "Dendrogram, 100 elements, 99 merges\n"
     ]
    }
   ],
   "source": [
    "print(dendogram)"
   ]
  },
  {
   "cell_type": "code",
   "execution_count": 95,
   "metadata": {},
   "outputs": [
    {
     "data": {
      "text/plain": [
       "igraph.clustering.VertexDendrogram"
      ]
     },
     "execution_count": 95,
     "metadata": {},
     "output_type": "execute_result"
    }
   ],
   "source": [
    "type(dendogram)"
   ]
  },
  {
   "cell_type": "code",
   "execution_count": 96,
   "metadata": {},
   "outputs": [
    {
     "data": {
      "text/plain": [
       "45"
      ]
     },
     "execution_count": 96,
     "metadata": {},
     "output_type": "execute_result"
    }
   ],
   "source": [
    "dendogram.optimal_count"
   ]
  },
  {
   "cell_type": "code",
   "execution_count": null,
   "metadata": {},
   "outputs": [],
   "source": []
  }
 ],
 "metadata": {
  "kernelspec": {
   "display_name": "Python 3",
   "language": "python",
   "name": "python3"
  },
  "language_info": {
   "codemirror_mode": {
    "name": "ipython",
    "version": 3
   },
   "file_extension": ".py",
   "mimetype": "text/x-python",
   "name": "python",
   "nbconvert_exporter": "python",
   "pygments_lexer": "ipython3",
   "version": "3.6.2"
  }
 },
 "nbformat": 4,
 "nbformat_minor": 2
}
